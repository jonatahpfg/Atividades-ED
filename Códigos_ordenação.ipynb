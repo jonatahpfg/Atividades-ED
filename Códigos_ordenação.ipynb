{
  "cells": [
    {
      "cell_type": "markdown",
      "metadata": {
        "id": "view-in-github",
        "colab_type": "text"
      },
      "source": [
        "<a href=\"https://colab.research.google.com/github/jonatahpfg/Atividades-ED/blob/main/C%C3%B3digos_ordena%C3%A7%C3%A3o.ipynb\" target=\"_parent\"><img src=\"https://colab.research.google.com/assets/colab-badge.svg\" alt=\"Open In Colab\"/></a>"
      ]
    },
    {
      "cell_type": "code",
      "source": [
        "import pandas as pd\n",
        "\n",
        "def selection_sort(lista):\n",
        "    n = len(lista)\n",
        "\n",
        "    for i in range(n-1):\n",
        "        menor_idx = i\n",
        "\n",
        "        for j in range(i+1, n):\n",
        "            if lista[j] < lista[menor_idx]:\n",
        "                menor_idx = j\n",
        "\n",
        "        #troca(inversão) dos elementos de posição.\n",
        "        lista[i], lista[menor_idx] = lista[menor_idx], lista[i]\n",
        "\n",
        "# Ler os dados do arquivo usando pandas\n",
        "df = pd.read_csv('/content/num.100000.4.in', header=None)\n",
        "lista_numeros = df[0].tolist()\n",
        "\n",
        "\n",
        "# Aplicar o Selection Sort\n",
        "selection_sort(lista_numeros)\n",
        "print(\"Dados ordenados:\")\n",
        "for elemento in lista_numeros:\n",
        "    print(elemento)"
      ],
      "metadata": {
        "id": "JZ9vpdD5jWHe"
      },
      "execution_count": null,
      "outputs": []
    },
    {
      "cell_type": "code",
      "source": [
        "def insertion_sort(lista):\n",
        "\n",
        "    for i in range(1, len(lista)): #começa do 1, visto que o primeiro elemento (índice 0) é considerado como uma sublista ordenada\n",
        "        chave = lista[i]\n",
        "        j = i - 1\n",
        "        while j >= 0 and chave < lista[j]:  # Move os elementos maiores que a chave para a direita\n",
        "            lista[j + 1] = lista[j]\n",
        "            j -= 1\n",
        "        lista[j + 1] = chave  # Insere a chave na posição correta\n",
        "\n",
        "df2 = pd.read_csv('/content/num.100000.4.in', header=None)\n",
        "lista_numerosIS = df2[0].tolist()\n",
        "\n",
        "insertion_sort(lista_numerosIS)\n",
        "print(\"Dados ordenados:\")\n",
        "for element in lista_numerosIS:\n",
        "    print(element)"
      ],
      "metadata": {
        "id": "kk25NFPrnX_x"
      },
      "execution_count": null,
      "outputs": []
    },
    {
      "cell_type": "code",
      "source": [
        "import pandas as pd\n",
        "\n",
        "def merge_sort(lista):\n",
        "    if len(lista) <= 1:\n",
        "        return lista\n",
        "\n",
        "    meio = len(lista) // 2\n",
        "    esquerda = lista[:meio]\n",
        "    direita = lista[meio:]\n",
        "\n",
        "    esquerda = merge_sort(esquerda) #chamadas recursivas da função merge_sort para ordenar as sublistas esquerda e direita\n",
        "    direita = merge_sort(direita)\n",
        "\n",
        "    return merge(esquerda, direita) #combinar essas sublistas ordenadas em uma única lista ordenada\n",
        "\n",
        "def merge(esquerda, direita):\n",
        "    resultado = []\n",
        "    i = j = 0\n",
        "\n",
        "    while i < len(esquerda) and j < len(direita):\n",
        "      #Compara os elementos nas posições i e j de esquerda e direita e adiciona o menor deles à lista resultado\n",
        "        if esquerda[i] < direita[j]:\n",
        "            resultado.append(esquerda[i])\n",
        "            i += 1\n",
        "        else:\n",
        "            resultado.append(direita[j])\n",
        "            j += 1\n",
        "\n",
        "    #garantia que nenhum elemento seja perdido na mesclagem.\n",
        "    resultado.extend(esquerda[i:])\n",
        "    resultado.extend(direita[j:])\n",
        "\n",
        "    return resultado\n",
        "\n",
        "df3 = pd.read_csv('/content/num.100000.4.in', header=None)\n",
        "lista_numerosMS = df3[0].tolist()\n",
        "\n",
        "lista_ordenada = merge_sort(lista_numerosMS)\n",
        "print(\"Dados ordenados:\")\n",
        "for element in lista_ordenada:\n",
        "    print(element)\n"
      ],
      "metadata": {
        "id": "TDHuw5IhJ56K"
      },
      "execution_count": null,
      "outputs": []
    }
  ],
  "metadata": {
    "colab": {
      "provenance": [],
      "include_colab_link": true
    },
    "kernelspec": {
      "display_name": "Python 3",
      "name": "python3"
    }
  },
  "nbformat": 4,
  "nbformat_minor": 0
}