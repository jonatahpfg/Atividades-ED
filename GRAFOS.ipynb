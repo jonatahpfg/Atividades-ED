{
  "cells": [
    {
      "cell_type": "markdown",
      "metadata": {
        "id": "view-in-github",
        "colab_type": "text"
      },
      "source": [
        "<a href=\"https://colab.research.google.com/github/jonatahpfg/GRAFOS--ED/blob/main/GRAFOS.ipynb\" target=\"_parent\"><img src=\"https://colab.research.google.com/assets/colab-badge.svg\" alt=\"Open In Colab\"/></a>"
      ]
    },
    {
      "cell_type": "code",
      "source": [
        "import queue\n",
        "\n",
        "class Graph:\n",
        "    def __init__(self, n):\n",
        "        self.num_vertices = n\n",
        "        self.matrix = [[0 for i in range(n)] for i in range(n)]\n",
        "        self.list = [[] for i in range(n)]\n",
        "\n",
        "    def print(self):\n",
        "        print(\"Matriz_adj:\\n\",self.matrix)\n",
        "        print(\"Lista_adj:\\n\", self.list)\n",
        "        print(\"\\n\")\n",
        "\n",
        "    def bfs(self, inicio):\n",
        "        fila = queue.Queue()\n",
        "        dist = [-1 for i in range(self.num_vertices)]\n",
        "        ant = [-1 for i in range(self.num_vertices)]\n",
        "        isVisited = [False for i in range(self.num_vertices)]\n",
        "\n",
        "        fila.put(inicio)\n",
        "        isVisited[inicio] = True\n",
        "        dist[inicio] = 0\n",
        "\n",
        "        while fila.empty() != True:\n",
        "            p = fila.get()\n",
        "            print(\"Vertice: \" + str(p))\n",
        "\n",
        "            for v in self.list[p]:\n",
        "                if isVisited[v] == False:\n",
        "                    dist[v] = dist[p] + 1\n",
        "                    ant[v] = p\n",
        "                    fila.put(v)\n",
        "                    isVisited[v] = True\n",
        "\n",
        "        return dist, ant\n",
        "\n",
        "    def path_bfs(self, s, t, ant):\n",
        "        path = []\n",
        "\n",
        "        if ant[t] == -1:\n",
        "            return f\"Caminho inexistente entre {s} e {t}\"\n",
        "\n",
        "        while t != s:\n",
        "            path.append(t)\n",
        "            t = ant[t]\n",
        "        path.append(s)\n",
        "        path.reverse()\n",
        "\n",
        "        return \" -> \".join(map(str,path))\n",
        "\n",
        "    def dfs(self, inicio):\n",
        "        isVisited = [False for i in range(self.num_vertices)]\n",
        "        resultado = []\n",
        "        pilha = []\n",
        "\n",
        "        pilha.append(inicio)\n",
        "        isVisited[inicio] = True\n",
        "\n",
        "        while pilha:\n",
        "            vertice = pilha.pop()\n",
        "            resultado.append(vertice)\n",
        "\n",
        "            for vizinho in self.list[vertice]:\n",
        "                if not isVisited[vizinho]:\n",
        "                    pilha.append(vizinho)\n",
        "                    isVisited[vizinho] = True\n",
        "\n",
        "        return resultado"
      ],
      "metadata": {
        "id": "kdJsfQIplWCn"
      },
      "execution_count": null,
      "outputs": []
    },
    {
      "cell_type": "code",
      "source": [
        "\n",
        "def load_from(fileName):\n",
        "    f = open(fileName, 'r')\n",
        "    n = int(f.readline())\n",
        "\n",
        "    g = Graph(n)\n",
        "\n",
        "    l = 0\n",
        "    for line in f:\n",
        "        #print(line)\n",
        "        #print(\"ola\")\n",
        "        line.strip()\n",
        "        numeros = line.split(\"\\t\")\n",
        "        c = 0\n",
        "        for i in numeros:\n",
        "            if(c == g.num_vertices):\n",
        "                break\n",
        "            #print(i)\n",
        "            g.matrix[l][c] = int(i)\n",
        "            if(g.matrix[l][c] > 0):\n",
        "                g.list[l].append(c)\n",
        "\n",
        "            c += 1\n",
        "        l += 1\n",
        "    return g\n",
        "grafo = load_from(\"pcv10.txt\")\n",
        "grafo.print()\n",
        "dist, ant = grafo.bfs(3)\n",
        "retorno = grafo.dfs(3)\n",
        "path = grafo.path_bfs(3, 8, ant)\n",
        "print(\"Dist_bfs: \", dist)\n",
        "print(\"Ant_bfs: \", ant)\n",
        "print(\"DFS: \", retorno)\n",
        "print(\"Path: \", path)\n"
      ],
      "metadata": {
        "id": "TKKlsrf4lca_",
        "outputId": "a924b366-3d4b-48af-8985-f2e87e134dd8",
        "colab": {
          "base_uri": "https://localhost:8080/"
        }
      },
      "execution_count": null,
      "outputs": [
        {
          "output_type": "stream",
          "name": "stdout",
          "text": [
            "Matriz_adj:\n",
            " [[0, 270, 0, 0, 0, 0, 0, 0, 0, 0], [270, 0, 0, 0, 0, 0, 0, 0, 0, 0], [0, 0, 0, 504, 655, 908, 1299, 0, 0, 0], [0, 0, 504, 0, 151, 423, 723, 0, 0, 0], [0, 0, 655, 151, 0, 272, 571, 1888, 0, 0], [0, 0, 908, 391, 240, 0, 241, 1560, 0, 0], [0, 0, 1299, 723, 571, 241, 0, 1617, 0, 0], [0, 0, 0, 0, 1902, 1718, 0, 0, 1274, 1510], [0, 0, 0, 0, 0, 0, 0, 1274, 0, 236], [0, 0, 0, 0, 0, 0, 0, 1470, 236, 0]]\n",
            "Lista_adj:\n",
            " [[1], [0], [3, 4, 5, 6], [2, 4, 5, 6], [2, 3, 5, 6, 7], [2, 3, 4, 6, 7], [2, 3, 4, 5, 7], [4, 5, 8, 9], [7, 9], [7, 8]]\n",
            "\n",
            "\n",
            "Vertice: 3\n",
            "Vertice: 2\n",
            "Vertice: 4\n",
            "Vertice: 5\n",
            "Vertice: 6\n",
            "Vertice: 7\n",
            "Vertice: 8\n",
            "Vertice: 9\n",
            "Dist_bfs:  [-1, -1, 1, 0, 1, 1, 1, 2, 3, 3]\n",
            "Ant_bfs:  [-1, -1, 3, -1, 3, 3, 3, 4, 7, 7]\n",
            "DFS:  [3, 6, 7, 9, 8, 5, 4, 2]\n",
            "Path:  3 -> 4 -> 7 -> 8\n"
          ]
        }
      ]
    }
  ],
  "metadata": {
    "colab": {
      "provenance": [],
      "include_colab_link": true
    },
    "kernelspec": {
      "display_name": "Python 3",
      "name": "python3"
    }
  },
  "nbformat": 4,
  "nbformat_minor": 0
}